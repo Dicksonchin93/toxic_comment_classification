{
  "cells": [
    {
      "metadata": {
        "_uuid": "41cd31e255867428bddad43ead3e766b2837948b",
        "_cell_guid": "93c24171-18f6-42d4-af00-5c856774b347",
        "collapsed": true
      },
      "cell_type": "markdown",
      "source": "<h3>Note:  in the Discussion section they said that data from figshare has some overlap with the current test set (https://www.kaggle.com/c/jigsaw-toxic-comment-classification-challenge/discussion/46177). So it's possible that using features/scores based on this data may overfit to the current test set.  Once they change the test set, the LB scores may change.\nSo at this point, I think it's hard to tell whether using features based on these datasets will ultimately help your LB score. It may still help, but we won't know for sure until the new test set is released.<h3>"
    },
    {
      "metadata": {
        "_uuid": "7e224f68ef5f256e4be2566e9a8311d3b47470d1",
        "collapsed": true,
        "_cell_guid": "1d2bb910-0444-487d-89b5-6fa47b8a6b27"
      },
      "cell_type": "markdown",
      "source": "**The idea for this kernel is to use the public datasets at https://conversationai.github.io/ to train models and use those models to score the train and test sets for this challenge. You can then use the scores as features when training the real models. So the output of this kernel isn't meant to be submitted as is. The output is the original train/test datasets, with additional columns/features.**\n\nUsing these enhanced train/test sets improved my logistic-regression based models from 0.047 to 0.044 log-loss. I haven't done much if any tuning for these models below, so you should be able to tweak things and get even better results.\n\nI understand that there are PerspectiveAPI models that may be similar. But rather than wait for an API key, and so I could play around with the models more myself, I trained the models in this kernel."
    },
    {
      "metadata": {
        "_uuid": "96c136c2572dbcea17f38c260d0ea5e3c563706d",
        "collapsed": true,
        "_cell_guid": "9471f39f-ba45-4db8-b610-9bfe18770bc3",
        "trusted": false
      },
      "cell_type": "code",
      "source": "import numpy as np # linear algebra\nimport pandas as pd # data processing, CSV file I/O (e.g. pd.read_csv)",
      "execution_count": null,
      "outputs": []
    },
    {
      "metadata": {
        "_uuid": "f7a153a8288d190481c26a7bfcf824036e517756",
        "collapsed": true,
        "_cell_guid": "cc063548-d203-491d-95d3-cfccd58cedf8",
        "trusted": false
      },
      "cell_type": "code",
      "source": "toxic_cmt = pd.read_table('../input/conversationaidataset/toxicity_annotated_comments.tsv')\ntoxic_annot = pd.read_table('../input/conversationaidataset/toxicity_annotations.tsv')\naggr_cmt = pd.read_table('../input/conversationaidataset/aggression_annotated_comments.tsv')\naggr_annot = pd.read_table('../input/conversationaidataset/aggression_annotations.tsv')\nattack_cmt = pd.read_table('../input/conversationaidataset/attack_annotated_comments.tsv')\nattack_annot = pd.read_table('../input/conversationaidataset/attack_annotations.tsv')",
      "execution_count": null,
      "outputs": []
    },
    {
      "metadata": {
        "_uuid": "46ff20d6c42c21b1eb1595e539776bd7823bd59d",
        "_cell_guid": "b158b96a-8e5e-438f-be60-a4855eb0842b"
      },
      "cell_type": "markdown",
      "source": "**Find the mean score for toxicity, aggression, attack, and join with the corresponding comment**\nFor each comment/rev_id, multiple workers have labeld/annotated. So then you have to decide what your overall label is for a given comment/rev_id. I simply took the mean value, and will train a regression model. You could try other aggregations/methods. You could, e.g., instead go with majority vote, and train binary classifiers, etc."
    },
    {
      "metadata": {
        "_uuid": "931f4c3e6c8a7ed28be8f6ff9694a9375ed00bec",
        "collapsed": true,
        "_cell_guid": "b635bf75-09e2-491c-8aa4-5512f696bded",
        "trusted": false
      },
      "cell_type": "code",
      "source": "def JoinAndSanitize(cmt, annot):\n    df = cmt.set_index('rev_id').join(annot.groupby(['rev_id']).mean())\n    df = Sanitize(df)\n    return df",
      "execution_count": null,
      "outputs": []
    },
    {
      "metadata": {
        "_uuid": "5deb6f4f888ac2393462bd243c945d2fcbf9391d",
        "_cell_guid": "223c29f8-229b-42fd-ad5d-61427673dbe7"
      },
      "cell_type": "markdown",
      "source": "**Basic cleaning/standardizing -- can potentially do more (or less) here**"
    },
    {
      "metadata": {
        "_uuid": "585418f67b3e73c47af85228f7a9e62682cb2816",
        "collapsed": true,
        "_cell_guid": "d3b0bf5e-37aa-49f5-94cc-bee6d9e06fe1",
        "trusted": false
      },
      "cell_type": "code",
      "source": "def Sanitize(df):\n    comment = 'comment' if 'comment' in df else 'comment_text'\n    df[comment] = df[comment].str.lower().str.replace('newline_token', ' ')\n    df[comment] = df[comment].fillna('erikov')\n    return df",
      "execution_count": null,
      "outputs": []
    },
    {
      "metadata": {
        "_uuid": "d56061bf13b65b1587e125152d87d71790031fda",
        "collapsed": true,
        "_cell_guid": "185561a1-5b3d-49ea-b737-1f68504d285f",
        "trusted": false
      },
      "cell_type": "code",
      "source": "toxic = JoinAndSanitize(toxic_cmt, toxic_annot)\nattack = JoinAndSanitize(attack_cmt, attack_annot)\naggression = JoinAndSanitize(aggr_cmt, aggr_annot)",
      "execution_count": null,
      "outputs": []
    },
    {
      "metadata": {
        "_uuid": "8b9e981ccef00bdbb71e852eaeb80e3f2b4cd439",
        "_cell_guid": "bc38ff04-0274-4bdf-9bff-1e5625ac0983"
      },
      "cell_type": "markdown",
      "source": "**The attack and aggression labeled datasets are actually the same with only very slightly different annotations/labels**\nSo probably only the scores from one model will be needed, but I left both here for completeness."
    },
    {
      "metadata": {
        "_uuid": "cb884f34312b44a95038df85adbd08b8df5693ef",
        "collapsed": true,
        "_cell_guid": "30eed731-3c48-492b-84b0-fe677e24fb37",
        "trusted": false
      },
      "cell_type": "code",
      "source": "len(attack), len(aggression)",
      "execution_count": null,
      "outputs": []
    },
    {
      "metadata": {
        "_uuid": "e97f9c8f5d65713f01131ecaa306dea2eee7f1b4",
        "collapsed": true,
        "_cell_guid": "8a7db6ee-6988-4f13-8b22-011ac4fc2baf",
        "trusted": false
      },
      "cell_type": "code",
      "source": "attack['comment'].equals(aggression['comment'])",
      "execution_count": null,
      "outputs": []
    },
    {
      "metadata": {
        "_uuid": "845182cb1a08c406f03ef7373188b14ecf7d8d31",
        "_cell_guid": "448b0597-005b-4bce-bacc-c4e8d6ba46ec"
      },
      "cell_type": "markdown",
      "source": "Check how correlated the mean value for the annotations between the attack and aggression datasets are"
    },
    {
      "metadata": {
        "_uuid": "96134949dd9f12ab7a34955bed2449a2f1a7ded4",
        "collapsed": true,
        "_cell_guid": "47639bda-b46b-464a-91c3-3e2020c763ca",
        "trusted": false
      },
      "cell_type": "code",
      "source": "attack['attack'].corr(aggression['aggression'])",
      "execution_count": null,
      "outputs": []
    },
    {
      "metadata": {
        "_uuid": "dbcefead0cd7d82f2e63cb607d21bbf73f14a14f",
        "_cell_guid": "ad881513-707b-4c9f-aa36-cf9b5464bf75"
      },
      "cell_type": "markdown",
      "source": "**Check dataset**"
    },
    {
      "metadata": {
        "_uuid": "29496c0653e608686a9170cbaf6ba16825091323",
        "collapsed": true,
        "_cell_guid": "cfb2b58b-369a-4934-ac88-33b7c6fc026e",
        "trusted": false
      },
      "cell_type": "code",
      "source": "toxic.head()\n#attack.head()\n#aggression.head()",
      "execution_count": null,
      "outputs": []
    },
    {
      "metadata": {
        "_uuid": "66404a538b7b0f751d3c5ca887038ecaf6116f43",
        "collapsed": true,
        "_cell_guid": "57fe5c62-bbb8-433e-8b0d-48feb38c1ca5",
        "trusted": false
      },
      "cell_type": "code",
      "source": "from sklearn.feature_extraction.text import TfidfVectorizer\n\ndef Tfidfize(df):\n    # can tweak these as desired\n    max_vocab = 200000\n    split = 0.1\n\n    comment = 'comment' if 'comment' in df else 'comment_text'\n    \n    tfidfer = TfidfVectorizer(ngram_range=(1,2), max_features=max_vocab,\n                   use_idf=1, stop_words='english',\n                   smooth_idf=1, sublinear_tf=1 )\n    tfidf = tfidfer.fit_transform(df[comment])\n\n    return tfidf, tfidfer",
      "execution_count": null,
      "outputs": []
    },
    {
      "metadata": {
        "_uuid": "b267bdc10ea39fbffada53ddc707562b3e8a0ad6",
        "_cell_guid": "3496e5fe-0fb9-4cce-887c-46679ba71dcc"
      },
      "cell_type": "markdown",
      "source": "Get the tfidf values for the training sets, as well as the fit tfidf vectorizer to be used later to transform the train/test sets for the real challenge datasets."
    },
    {
      "metadata": {
        "_uuid": "bfeab05149e6f8e61ed12dd56284cb919dc94cd4",
        "collapsed": true,
        "_cell_guid": "2f334a1c-ce4b-4a9a-bd91-e70d9d617553",
        "trusted": false
      },
      "cell_type": "code",
      "source": "X_toxic, tfidfer_toxic = Tfidfize(toxic)\ny_toxic = toxic['toxicity'].values\nX_attack, tfidfer_attack = Tfidfize(attack)\ny_attack = attack['attack'].values\nX_aggression, tfidfer_aggression = Tfidfize(aggression)\ny_aggression = aggression['aggression'].values",
      "execution_count": null,
      "outputs": []
    },
    {
      "metadata": {
        "_uuid": "59cd67be9dbcc8939d59a60a21c14899cdcf219d",
        "_cell_guid": "c170e36d-f34f-40c3-bec2-b87f500394ae"
      },
      "cell_type": "markdown",
      "source": "**Model Training Strategy**\n\nRather than converting the 'toxicity', 'attack', 'aggression' into a binary label (e.g., >= 0.5), let's train a regression model to use as much information as possible. The output score from these models could be used as features in training the further refined models in the current challenge ('severe_toxic', 'obscene', etc.).\n\nThe toxicity/attack/aggression may not have a 1-1 mapping with the desired targets for the challenge, but they may be features that can help."
    },
    {
      "metadata": {
        "_uuid": "4afbde5720479525399c5a3fa3f7539506dec2ec",
        "collapsed": true,
        "_cell_guid": "e219786f-3591-4572-946c-70834f410c2a",
        "trusted": false
      },
      "cell_type": "code",
      "source": "from sklearn.linear_model import Ridge\nfrom sklearn.model_selection import cross_val_score\n\nridge = Ridge()\nmse_toxic = -cross_val_score(ridge, X_toxic, y_toxic, scoring='neg_mean_squared_error')\nmse_attack = -cross_val_score(ridge, X_attack, y_attack, scoring='neg_mean_squared_error')\nmse_aggression = -cross_val_score(ridge, X_aggression, y_aggression, scoring='neg_mean_squared_error')",
      "execution_count": null,
      "outputs": []
    },
    {
      "metadata": {
        "_uuid": "a7028c84de71f59f163c552776cd3ab7cc6fc7b2",
        "collapsed": true,
        "_cell_guid": "a76fdcba-ebe8-4413-8e52-926d0197555b",
        "trusted": false
      },
      "cell_type": "code",
      "source": "mse_toxic.mean(), mse_attack.mean(), mse_aggression.mean()",
      "execution_count": null,
      "outputs": []
    },
    {
      "metadata": {
        "_uuid": "6a93d0923ad96dcd55144c3d9e23fc006f555d29",
        "_cell_guid": "109ca84b-7fab-4c92-91c2-4e32e891170d"
      },
      "cell_type": "markdown",
      "source": "**If the cross-validation scores look okay, train on the full dataset**"
    },
    {
      "metadata": {
        "_uuid": "d4d8274bd65f2db4f7c44d585f9e0aeda2ac2985",
        "collapsed": true,
        "_cell_guid": "9e412176-f80b-4a8b-9dd6-da41673e7b38",
        "trusted": false
      },
      "cell_type": "code",
      "source": "model_toxic = ridge.fit(X_toxic, y_toxic)\nmodel_attack = ridge.fit(X_attack, y_attack)\nmodel_aggression = ridge.fit(X_aggression, y_aggression)",
      "execution_count": null,
      "outputs": []
    },
    {
      "metadata": {
        "_uuid": "9c98b0e8f7896edebed257d5d16ec1efc07edf6a",
        "_cell_guid": "dfae494c-51ca-4360-8150-baa193123442"
      },
      "cell_type": "markdown",
      "source": "**Now score the original train and test sets, and save out as an additional feature for those datasets. (These can then be used when training/scoring with our real model**"
    },
    {
      "metadata": {
        "_uuid": "71279eba76cc6dd72dbd0a8bac14ace806d7d938",
        "collapsed": true,
        "_cell_guid": "d626a4d3-59e9-4049-aefc-81b61f812d4d",
        "trusted": false
      },
      "cell_type": "code",
      "source": "train_orig = pd.read_csv('../input/jigsaw-toxic-comment-classification-challenge/train.csv')\ntest_orig = pd.read_csv('../input/jigsaw-toxic-comment-classification-challenge/test.csv')",
      "execution_count": null,
      "outputs": []
    },
    {
      "metadata": {
        "_uuid": "4af40d3a6f3e17e706b5ce81dd07dbd03e9619ce",
        "collapsed": true,
        "_cell_guid": "baac45ac-88aa-4252-81ca-3f3a27a9ccbc",
        "trusted": false
      },
      "cell_type": "code",
      "source": "train_orig = Sanitize(train_orig)\ntest_orig = Sanitize(test_orig)",
      "execution_count": null,
      "outputs": []
    },
    {
      "metadata": {
        "_uuid": "f2d7f004cd7bd0a3c8461c8106e34c07b2d5348d",
        "collapsed": true,
        "_cell_guid": "c97079c3-0df4-4bfe-8308-81cbdcda48d3",
        "trusted": false
      },
      "cell_type": "code",
      "source": "def TfidfAndPredict(tfidfer, model):\n    tfidf_train = tfidfer.transform(train_orig['comment_text'])\n    tfidf_test = tfidfer.transform(test_orig['comment_text'])\n    train_scores = model.predict(tfidf_train)\n    test_scores = model.predict(tfidf_test)\n    \n    return train_scores, test_scores",
      "execution_count": null,
      "outputs": []
    },
    {
      "metadata": {
        "_uuid": "5dd3cc4349133aa1c3bf648ed2f41c5c14261b6f",
        "collapsed": true,
        "_cell_guid": "aa06f163-9e0d-48fe-98fe-eab940d1f13b",
        "trusted": false
      },
      "cell_type": "code",
      "source": "toxic_tr_scores, toxic_t_scores = TfidfAndPredict(tfidfer_toxic, model_toxic)",
      "execution_count": null,
      "outputs": []
    },
    {
      "metadata": {
        "_uuid": "95859856265bc344769fe837c435b0af8f222326",
        "collapsed": true,
        "_cell_guid": "9d6e0ce2-6e55-42fb-ab12-81437b0923b6",
        "trusted": false
      },
      "cell_type": "code",
      "source": "toxic_tr_scores.shape, toxic_t_scores.shape",
      "execution_count": null,
      "outputs": []
    },
    {
      "metadata": {
        "_uuid": "81ce8b860fe6cc402ccb2eb2f8a5b4e8391cdeba",
        "collapsed": true,
        "_cell_guid": "d4531c50-96a0-4180-81f1-78f6ae81ee20",
        "trusted": false
      },
      "cell_type": "code",
      "source": "attack_tr_scores, attack_t_scores = TfidfAndPredict(tfidfer_attack, model_attack)",
      "execution_count": null,
      "outputs": []
    },
    {
      "metadata": {
        "_uuid": "b25fd9d4bf26223a25e1cd4d33fa85e2859f44d4",
        "collapsed": true,
        "_cell_guid": "fb049953-c535-42fd-849d-42faeaaa0072",
        "trusted": false
      },
      "cell_type": "code",
      "source": "attack_tr_scores.shape, attack_t_scores.shape",
      "execution_count": null,
      "outputs": []
    },
    {
      "metadata": {
        "_uuid": "deb4311c8f47d2414ef24a47570611aad9da8e01",
        "collapsed": true,
        "_cell_guid": "8ca296a0-21c9-4863-be29-d8eff0474e8b",
        "trusted": false
      },
      "cell_type": "code",
      "source": "aggression_tr_scores, aggression_t_scores = TfidfAndPredict(tfidfer_aggression, model_aggression)",
      "execution_count": null,
      "outputs": []
    },
    {
      "metadata": {
        "_uuid": "eeb5ad47a06592db00d32b3b93ada9442053bcac",
        "collapsed": true,
        "_cell_guid": "fb80020b-ea0f-4129-afb5-a106aeb45e85",
        "trusted": false
      },
      "cell_type": "code",
      "source": "aggression_tr_scores.shape, aggression_t_scores.shape",
      "execution_count": null,
      "outputs": []
    },
    {
      "metadata": {
        "_uuid": "790503a6bc2b0a9cf6def1bd9ac5083a6e55c710",
        "_cell_guid": "8ea53ca4-fdb8-4f61-b268-c6aea94d24b4"
      },
      "cell_type": "markdown",
      "source": "**Ok, now write out these scores alongside the original train and test datasets**"
    },
    {
      "metadata": {
        "_uuid": "e7cf48859d9338ffb3abbd1c8a55a126df4e3307",
        "collapsed": true,
        "_cell_guid": "5d4bb41e-daff-43c5-b4c8-0e7e5e9c70b3",
        "trusted": false
      },
      "cell_type": "code",
      "source": "# toxic_level, to not be confused with original label 'toxic'\ntrain_orig['toxic_level'] = toxic_tr_scores\ntrain_orig['attack'] = attack_tr_scores\ntrain_orig['aggression'] = aggression_tr_scores\ntest_orig['toxic_level'] = toxic_t_scores\ntest_orig['attack'] = attack_t_scores\ntest_orig['aggression'] = aggression_t_scores\n",
      "execution_count": null,
      "outputs": []
    },
    {
      "metadata": {
        "_uuid": "c041fffab51281b288a221245f07bd5437aea35d",
        "collapsed": true,
        "_cell_guid": "88afa0c6-23ca-4393-88c5-b143acfa32a3",
        "trusted": false
      },
      "cell_type": "code",
      "source": "train_orig.to_csv('train_with_convai.csv', index=False)\ntest_orig.to_csv('test_with_convai.csv', index=False)",
      "execution_count": null,
      "outputs": []
    }
  ],
  "metadata": {
    "language_info": {
      "pygments_lexer": "ipython3",
      "file_extension": ".py",
      "codemirror_mode": {
        "version": 3,
        "name": "ipython"
      },
      "mimetype": "text/x-python",
      "version": "3.6.3",
      "nbconvert_exporter": "python",
      "name": "python"
    },
    "kernelspec": {
      "display_name": "Python 3",
      "language": "python",
      "name": "python3"
    }
  },
  "nbformat": 4,
  "nbformat_minor": 1
}