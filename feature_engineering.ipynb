{
 "cells": [
  {
   "cell_type": "code",
   "execution_count": 1,
   "metadata": {
    "collapsed": true
   },
   "outputs": [],
   "source": [
    "import pandas as pd\n",
    "import seaborn as sns\n",
    "import visuals as vs\n",
    "import numpy as np\n",
    "\n"
   ]
  },
  {
   "cell_type": "code",
   "execution_count": 2,
   "metadata": {
    "collapsed": true
   },
   "outputs": [],
   "source": [
    "df = pd.read_csv('test.csv')"
   ]
  },
  {
   "cell_type": "code",
   "execution_count": 3,
   "metadata": {},
   "outputs": [
    {
     "data": {
      "text/html": [
       "<div>\n",
       "<style>\n",
       "    .dataframe thead tr:only-child th {\n",
       "        text-align: right;\n",
       "    }\n",
       "\n",
       "    .dataframe thead th {\n",
       "        text-align: left;\n",
       "    }\n",
       "\n",
       "    .dataframe tbody tr th {\n",
       "        vertical-align: top;\n",
       "    }\n",
       "</style>\n",
       "<table border=\"1\" class=\"dataframe\">\n",
       "  <thead>\n",
       "    <tr style=\"text-align: right;\">\n",
       "      <th></th>\n",
       "      <th>id</th>\n",
       "      <th>comment_text</th>\n",
       "    </tr>\n",
       "  </thead>\n",
       "  <tbody>\n",
       "    <tr>\n",
       "      <th>0</th>\n",
       "      <td>00001cee341fdb12</td>\n",
       "      <td>Yo bitch Ja Rule is more succesful then you'll...</td>\n",
       "    </tr>\n",
       "    <tr>\n",
       "      <th>1</th>\n",
       "      <td>0000247867823ef7</td>\n",
       "      <td>== From RfC == \\n\\n The title is fine as it is...</td>\n",
       "    </tr>\n",
       "    <tr>\n",
       "      <th>2</th>\n",
       "      <td>00013b17ad220c46</td>\n",
       "      <td>\" \\n\\n == Sources == \\n\\n * Zawe Ashton on Lap...</td>\n",
       "    </tr>\n",
       "    <tr>\n",
       "      <th>3</th>\n",
       "      <td>00017563c3f7919a</td>\n",
       "      <td>:If you have a look back at the source, the in...</td>\n",
       "    </tr>\n",
       "    <tr>\n",
       "      <th>4</th>\n",
       "      <td>00017695ad8997eb</td>\n",
       "      <td>I don't anonymously edit articles at all.</td>\n",
       "    </tr>\n",
       "    <tr>\n",
       "      <th>5</th>\n",
       "      <td>0001ea8717f6de06</td>\n",
       "      <td>Thank you for understanding. I think very high...</td>\n",
       "    </tr>\n",
       "    <tr>\n",
       "      <th>6</th>\n",
       "      <td>00024115d4cbde0f</td>\n",
       "      <td>Please do not add nonsense to Wikipedia. Such ...</td>\n",
       "    </tr>\n",
       "    <tr>\n",
       "      <th>7</th>\n",
       "      <td>000247e83dcc1211</td>\n",
       "      <td>:Dear god this site is horrible.</td>\n",
       "    </tr>\n",
       "    <tr>\n",
       "      <th>8</th>\n",
       "      <td>00025358d4737918</td>\n",
       "      <td>\" \\n Only a fool can believe in such numbers. ...</td>\n",
       "    </tr>\n",
       "    <tr>\n",
       "      <th>9</th>\n",
       "      <td>00026d1092fe71cc</td>\n",
       "      <td>== Double Redirects == \\n\\n When fixing double...</td>\n",
       "    </tr>\n",
       "  </tbody>\n",
       "</table>\n",
       "</div>"
      ],
      "text/plain": [
       "                 id                                       comment_text\n",
       "0  00001cee341fdb12  Yo bitch Ja Rule is more succesful then you'll...\n",
       "1  0000247867823ef7  == From RfC == \\n\\n The title is fine as it is...\n",
       "2  00013b17ad220c46  \" \\n\\n == Sources == \\n\\n * Zawe Ashton on Lap...\n",
       "3  00017563c3f7919a  :If you have a look back at the source, the in...\n",
       "4  00017695ad8997eb          I don't anonymously edit articles at all.\n",
       "5  0001ea8717f6de06  Thank you for understanding. I think very high...\n",
       "6  00024115d4cbde0f  Please do not add nonsense to Wikipedia. Such ...\n",
       "7  000247e83dcc1211                   :Dear god this site is horrible.\n",
       "8  00025358d4737918  \" \\n Only a fool can believe in such numbers. ...\n",
       "9  00026d1092fe71cc  == Double Redirects == \\n\\n When fixing double..."
      ]
     },
     "execution_count": 3,
     "metadata": {},
     "output_type": "execute_result"
    }
   ],
   "source": [
    "df.head(n=10)"
   ]
  },
  {
   "cell_type": "markdown",
   "metadata": {},
   "source": [
    "### Below i'm adding features to the dataset that are computed from the comment text. Some i've seen in discussions for this competition, others i came up with while looking at the data. Right now, they are:\n",
    "\n",
    "- Length of the comment - my initial assumption is that angry people write short messages\n",
    "- Number of capitals - observation was many toxic comments being ALL CAPS\n",
    "- Proportion of capitals - see previous\n",
    "- Number of exclamation marks - i observed several toxic comments with multiple exclamation marks\n",
    "- Number of question marks - assumption that angry people might not use question marks\n",
    "- Number of punctuation symbols - assumption that angry people might not use punctuation\n",
    "- Number of symbols - assumtion that words like fck or # or sh*t mean more symbols in foul language (Thx for tip!)\n",
    "- Number of words - angry people might write short messages?\n",
    "- Number of unique words - observation that angry comments are sometimes repeated many times\n",
    "- Proportion of unique words - see previous\n",
    "- Number of (happy) smilies - Angry people wouldn't use happy smilies, right?"
   ]
  },
  {
   "cell_type": "code",
   "execution_count": 4,
   "metadata": {
    "collapsed": true
   },
   "outputs": [],
   "source": [
    "df['total_length'] = df['comment_text'].apply(len)\n",
    "df['capitals'] = df['comment_text'].apply(lambda comment: sum(1 for c in comment if c.isupper()))\n",
    "df['caps_vs_length'] = df.apply(lambda row: float(row['capitals'])/float(row['total_length']),\n",
    "                                axis=1)\n",
    "df['num_exclamation_marks'] = df['comment_text'].apply(lambda comment: comment.count('!'))\n",
    "df['num_question_marks'] = df['comment_text'].apply(lambda comment: comment.count('?'))\n",
    "df['num_punctuation'] = df['comment_text'].apply(\n",
    "    lambda comment: sum(comment.count(w) for w in '.,;:'))\n",
    "df['num_symbols'] = df['comment_text'].apply(\n",
    "    lambda comment: sum(comment.count(w) for w in '*&$%'))\n",
    "df['num_words'] = df['comment_text'].apply(lambda comment: len(comment.split()))\n",
    "df['num_unique_words'] = df['comment_text'].apply(\n",
    "    lambda comment: len(set(w for w in comment.split())))\n",
    "df['words_vs_unique'] = df['num_unique_words'] / df['num_words']\n",
    "df['num_smilies'] = df['comment_text'].apply(\n",
    "    lambda comment: sum(comment.count(w) for w in (':-)', ':)', ';-)', ';)')))"
   ]
  },
  {
   "cell_type": "code",
   "execution_count": 5,
   "metadata": {},
   "outputs": [
    {
     "data": {
      "text/html": [
       "<div>\n",
       "<style>\n",
       "    .dataframe thead tr:only-child th {\n",
       "        text-align: right;\n",
       "    }\n",
       "\n",
       "    .dataframe thead th {\n",
       "        text-align: left;\n",
       "    }\n",
       "\n",
       "    .dataframe tbody tr th {\n",
       "        vertical-align: top;\n",
       "    }\n",
       "</style>\n",
       "<table border=\"1\" class=\"dataframe\">\n",
       "  <thead>\n",
       "    <tr style=\"text-align: right;\">\n",
       "      <th></th>\n",
       "      <th>id</th>\n",
       "      <th>comment_text</th>\n",
       "      <th>total_length</th>\n",
       "      <th>capitals</th>\n",
       "      <th>caps_vs_length</th>\n",
       "      <th>num_exclamation_marks</th>\n",
       "      <th>num_question_marks</th>\n",
       "      <th>num_punctuation</th>\n",
       "      <th>num_symbols</th>\n",
       "      <th>num_words</th>\n",
       "      <th>num_unique_words</th>\n",
       "      <th>words_vs_unique</th>\n",
       "      <th>num_smilies</th>\n",
       "    </tr>\n",
       "  </thead>\n",
       "  <tbody>\n",
       "    <tr>\n",
       "      <th>0</th>\n",
       "      <td>00001cee341fdb12</td>\n",
       "      <td>Yo bitch Ja Rule is more succesful then you'll...</td>\n",
       "      <td>367</td>\n",
       "      <td>4</td>\n",
       "      <td>0.010899</td>\n",
       "      <td>0</td>\n",
       "      <td>0</td>\n",
       "      <td>11</td>\n",
       "      <td>0</td>\n",
       "      <td>72</td>\n",
       "      <td>61</td>\n",
       "      <td>0.847222</td>\n",
       "      <td>0</td>\n",
       "    </tr>\n",
       "    <tr>\n",
       "      <th>1</th>\n",
       "      <td>0000247867823ef7</td>\n",
       "      <td>== From RfC == \\n\\n The title is fine as it is...</td>\n",
       "      <td>50</td>\n",
       "      <td>7</td>\n",
       "      <td>0.140000</td>\n",
       "      <td>0</td>\n",
       "      <td>0</td>\n",
       "      <td>2</td>\n",
       "      <td>0</td>\n",
       "      <td>12</td>\n",
       "      <td>11</td>\n",
       "      <td>0.916667</td>\n",
       "      <td>0</td>\n",
       "    </tr>\n",
       "    <tr>\n",
       "      <th>2</th>\n",
       "      <td>00013b17ad220c46</td>\n",
       "      <td>\" \\n\\n == Sources == \\n\\n * Zawe Ashton on Lap...</td>\n",
       "      <td>56</td>\n",
       "      <td>4</td>\n",
       "      <td>0.071429</td>\n",
       "      <td>0</td>\n",
       "      <td>0</td>\n",
       "      <td>0</td>\n",
       "      <td>1</td>\n",
       "      <td>12</td>\n",
       "      <td>10</td>\n",
       "      <td>0.833333</td>\n",
       "      <td>0</td>\n",
       "    </tr>\n",
       "    <tr>\n",
       "      <th>3</th>\n",
       "      <td>00017563c3f7919a</td>\n",
       "      <td>:If you have a look back at the source, the in...</td>\n",
       "      <td>205</td>\n",
       "      <td>4</td>\n",
       "      <td>0.019512</td>\n",
       "      <td>0</td>\n",
       "      <td>0</td>\n",
       "      <td>5</td>\n",
       "      <td>0</td>\n",
       "      <td>38</td>\n",
       "      <td>30</td>\n",
       "      <td>0.789474</td>\n",
       "      <td>0</td>\n",
       "    </tr>\n",
       "    <tr>\n",
       "      <th>4</th>\n",
       "      <td>00017695ad8997eb</td>\n",
       "      <td>I don't anonymously edit articles at all.</td>\n",
       "      <td>41</td>\n",
       "      <td>1</td>\n",
       "      <td>0.024390</td>\n",
       "      <td>0</td>\n",
       "      <td>0</td>\n",
       "      <td>1</td>\n",
       "      <td>0</td>\n",
       "      <td>7</td>\n",
       "      <td>7</td>\n",
       "      <td>1.000000</td>\n",
       "      <td>0</td>\n",
       "    </tr>\n",
       "  </tbody>\n",
       "</table>\n",
       "</div>"
      ],
      "text/plain": [
       "                 id                                       comment_text  \\\n",
       "0  00001cee341fdb12  Yo bitch Ja Rule is more succesful then you'll...   \n",
       "1  0000247867823ef7  == From RfC == \\n\\n The title is fine as it is...   \n",
       "2  00013b17ad220c46  \" \\n\\n == Sources == \\n\\n * Zawe Ashton on Lap...   \n",
       "3  00017563c3f7919a  :If you have a look back at the source, the in...   \n",
       "4  00017695ad8997eb          I don't anonymously edit articles at all.   \n",
       "\n",
       "   total_length  capitals  caps_vs_length  num_exclamation_marks  \\\n",
       "0           367         4        0.010899                      0   \n",
       "1            50         7        0.140000                      0   \n",
       "2            56         4        0.071429                      0   \n",
       "3           205         4        0.019512                      0   \n",
       "4            41         1        0.024390                      0   \n",
       "\n",
       "   num_question_marks  num_punctuation  num_symbols  num_words  \\\n",
       "0                   0               11            0         72   \n",
       "1                   0                2            0         12   \n",
       "2                   0                0            1         12   \n",
       "3                   0                5            0         38   \n",
       "4                   0                1            0          7   \n",
       "\n",
       "   num_unique_words  words_vs_unique  num_smilies  \n",
       "0                61         0.847222            0  \n",
       "1                11         0.916667            0  \n",
       "2                10         0.833333            0  \n",
       "3                30         0.789474            0  \n",
       "4                 7         1.000000            0  "
      ]
     },
     "execution_count": 5,
     "metadata": {},
     "output_type": "execute_result"
    }
   ],
   "source": [
    "df.head()"
   ]
  },
  {
   "cell_type": "code",
   "execution_count": 21,
   "metadata": {
    "collapsed": true
   },
   "outputs": [],
   "source": [
    "df = pd.read_csv('stage_one_ensemble_features/test/test_extra_feature.csv')"
   ]
  },
  {
   "cell_type": "code",
   "execution_count": 15,
   "metadata": {
    "collapsed": true
   },
   "outputs": [],
   "source": [
    "xtra = df[['id','capitals','num_unique_words', 'num_exclamation_marks', 'num_punctuation']]"
   ]
  },
  {
   "cell_type": "code",
   "execution_count": 16,
   "metadata": {},
   "outputs": [
    {
     "data": {
      "text/html": [
       "<div>\n",
       "<style>\n",
       "    .dataframe thead tr:only-child th {\n",
       "        text-align: right;\n",
       "    }\n",
       "\n",
       "    .dataframe thead th {\n",
       "        text-align: left;\n",
       "    }\n",
       "\n",
       "    .dataframe tbody tr th {\n",
       "        vertical-align: top;\n",
       "    }\n",
       "</style>\n",
       "<table border=\"1\" class=\"dataframe\">\n",
       "  <thead>\n",
       "    <tr style=\"text-align: right;\">\n",
       "      <th></th>\n",
       "      <th>id</th>\n",
       "      <th>capitals</th>\n",
       "      <th>num_unique_words</th>\n",
       "      <th>num_exclamation_marks</th>\n",
       "      <th>num_punctuation</th>\n",
       "    </tr>\n",
       "  </thead>\n",
       "  <tbody>\n",
       "    <tr>\n",
       "      <th>0</th>\n",
       "      <td>0000997932d777bf</td>\n",
       "      <td>2.890372</td>\n",
       "      <td>3.737670</td>\n",
       "      <td>0</td>\n",
       "      <td>6</td>\n",
       "    </tr>\n",
       "    <tr>\n",
       "      <th>1</th>\n",
       "      <td>000103f0d9cfb60f</td>\n",
       "      <td>2.197225</td>\n",
       "      <td>2.890372</td>\n",
       "      <td>1</td>\n",
       "      <td>5</td>\n",
       "    </tr>\n",
       "    <tr>\n",
       "      <th>2</th>\n",
       "      <td>000113f07ec002fd</td>\n",
       "      <td>1.609438</td>\n",
       "      <td>3.688879</td>\n",
       "      <td>0</td>\n",
       "      <td>4</td>\n",
       "    </tr>\n",
       "    <tr>\n",
       "      <th>3</th>\n",
       "      <td>0001b41b1c6bb37e</td>\n",
       "      <td>2.484907</td>\n",
       "      <td>4.418841</td>\n",
       "      <td>0</td>\n",
       "      <td>6</td>\n",
       "    </tr>\n",
       "    <tr>\n",
       "      <th>4</th>\n",
       "      <td>0001d958c54c6e35</td>\n",
       "      <td>1.098612</td>\n",
       "      <td>2.639057</td>\n",
       "      <td>0</td>\n",
       "      <td>3</td>\n",
       "    </tr>\n",
       "  </tbody>\n",
       "</table>\n",
       "</div>"
      ],
      "text/plain": [
       "                 id  capitals  num_unique_words  num_exclamation_marks  \\\n",
       "0  0000997932d777bf  2.890372          3.737670                      0   \n",
       "1  000103f0d9cfb60f  2.197225          2.890372                      1   \n",
       "2  000113f07ec002fd  1.609438          3.688879                      0   \n",
       "3  0001b41b1c6bb37e  2.484907          4.418841                      0   \n",
       "4  0001d958c54c6e35  1.098612          2.639057                      0   \n",
       "\n",
       "   num_punctuation  \n",
       "0                6  \n",
       "1                5  \n",
       "2                4  \n",
       "3                6  \n",
       "4                3  "
      ]
     },
     "execution_count": 16,
     "metadata": {},
     "output_type": "execute_result"
    }
   ],
   "source": [
    "xtra.head()"
   ]
  },
  {
   "cell_type": "code",
   "execution_count": 17,
   "metadata": {},
   "outputs": [
    {
     "data": {
      "image/png": "[encoded data removed]",
      "text/plain": [
       "<matplotlib.figure.Figure at 0x7f612bbbd350>"
      ]
     },
     "metadata": {},
     "output_type": "display_data"
    }
   ],
   "source": [
    "#xtra = pd.read_csv('extra_feature.csv')\n",
    "vs.distribution(xtra)\n"
   ]
  },
  {
   "cell_type": "code",
   "execution_count": 18,
   "metadata": {},
   "outputs": [],
   "source": [
    "skewed = ['num_punctuation']\n",
    "xtra[skewed] = xtra[skewed].apply(lambda x: np.log(x + 1))\n"
   ]
  },
  {
   "cell_type": "code",
   "execution_count": 10,
   "metadata": {},
   "outputs": [
    {
     "data": {
      "image/png": "[encoded data removed]",
      "text/plain": [
       "<matplotlib.figure.Figure at 0x7f612bcc1bd0>"
      ]
     },
     "metadata": {},
     "output_type": "display_data"
    }
   ],
   "source": [
    "vs.distribution(xtra)\n"
   ]
  },
  {
   "cell_type": "code",
   "execution_count": 11,
   "metadata": {},
   "outputs": [
    {
     "data": {
      "text/plain": [
       "(153164, 5)"
      ]
     },
     "execution_count": 11,
     "metadata": {},
     "output_type": "execute_result"
    }
   ],
   "source": [
    "xtra.shape"
   ]
  },
  {
   "cell_type": "code",
   "execution_count": 19,
   "metadata": {},
   "outputs": [
    {
     "data": {
      "text/html": [
       "<div>\n",
       "<style>\n",
       "    .dataframe thead tr:only-child th {\n",
       "        text-align: right;\n",
       "    }\n",
       "\n",
       "    .dataframe thead th {\n",
       "        text-align: left;\n",
       "    }\n",
       "\n",
       "    .dataframe tbody tr th {\n",
       "        vertical-align: top;\n",
       "    }\n",
       "</style>\n",
       "<table border=\"1\" class=\"dataframe\">\n",
       "  <thead>\n",
       "    <tr style=\"text-align: right;\">\n",
       "      <th></th>\n",
       "      <th>id</th>\n",
       "      <th>capitals</th>\n",
       "      <th>num_unique_words</th>\n",
       "      <th>num_exclamation_marks</th>\n",
       "      <th>num_punctuation</th>\n",
       "    </tr>\n",
       "  </thead>\n",
       "  <tbody>\n",
       "    <tr>\n",
       "      <th>0</th>\n",
       "      <td>0000997932d777bf</td>\n",
       "      <td>2.890372</td>\n",
       "      <td>3.737670</td>\n",
       "      <td>0</td>\n",
       "      <td>1.945910</td>\n",
       "    </tr>\n",
       "    <tr>\n",
       "      <th>1</th>\n",
       "      <td>000103f0d9cfb60f</td>\n",
       "      <td>2.197225</td>\n",
       "      <td>2.890372</td>\n",
       "      <td>1</td>\n",
       "      <td>1.791759</td>\n",
       "    </tr>\n",
       "    <tr>\n",
       "      <th>2</th>\n",
       "      <td>000113f07ec002fd</td>\n",
       "      <td>1.609438</td>\n",
       "      <td>3.688879</td>\n",
       "      <td>0</td>\n",
       "      <td>1.609438</td>\n",
       "    </tr>\n",
       "    <tr>\n",
       "      <th>3</th>\n",
       "      <td>0001b41b1c6bb37e</td>\n",
       "      <td>2.484907</td>\n",
       "      <td>4.418841</td>\n",
       "      <td>0</td>\n",
       "      <td>1.945910</td>\n",
       "    </tr>\n",
       "    <tr>\n",
       "      <th>4</th>\n",
       "      <td>0001d958c54c6e35</td>\n",
       "      <td>1.098612</td>\n",
       "      <td>2.639057</td>\n",
       "      <td>0</td>\n",
       "      <td>1.386294</td>\n",
       "    </tr>\n",
       "  </tbody>\n",
       "</table>\n",
       "</div>"
      ],
      "text/plain": [
       "                 id  capitals  num_unique_words  num_exclamation_marks  \\\n",
       "0  0000997932d777bf  2.890372          3.737670                      0   \n",
       "1  000103f0d9cfb60f  2.197225          2.890372                      1   \n",
       "2  000113f07ec002fd  1.609438          3.688879                      0   \n",
       "3  0001b41b1c6bb37e  2.484907          4.418841                      0   \n",
       "4  0001d958c54c6e35  1.098612          2.639057                      0   \n",
       "\n",
       "   num_punctuation  \n",
       "0         1.945910  \n",
       "1         1.791759  \n",
       "2         1.609438  \n",
       "3         1.945910  \n",
       "4         1.386294  "
      ]
     },
     "execution_count": 19,
     "metadata": {},
     "output_type": "execute_result"
    }
   ],
   "source": [
    "xtra.head()"
   ]
  },
  {
   "cell_type": "code",
   "execution_count": 20,
   "metadata": {
    "collapsed": true
   },
   "outputs": [],
   "source": [
    "xtra.to_csv('stage_one_ensemble_features/extra_feature.csv', index=False)\n"
   ]
  },
  {
   "cell_type": "code",
   "execution_count": 5,
   "metadata": {
    "collapsed": true
   },
   "outputs": [],
   "source": [
    "features = ('total_length', 'capitals', 'caps_vs_length', 'num_exclamation_marks',\n",
    "            'num_question_marks', 'num_punctuation', 'num_words', 'num_unique_words',\n",
    "            'words_vs_unique', 'num_smilies', 'num_symbols')\n",
    "columns = ('toxic', 'severe_toxic', 'obscene', 'threat', 'insult', 'identity_hate')\n",
    "\n",
    "rows = [{c:df[f].corr(df[c]) for c in columns} for f in features]\n",
    "df_correlations = pd.DataFrame(rows, index=features)"
   ]
  },
  {
   "cell_type": "code",
   "execution_count": 6,
   "metadata": {},
   "outputs": [
    {
     "data": {
      "text/html": [
       "<div>\n",
       "<style>\n",
       "    .dataframe thead tr:only-child th {\n",
       "        text-align: right;\n",
       "    }\n",
       "\n",
       "    .dataframe thead th {\n",
       "        text-align: left;\n",
       "    }\n",
       "\n",
       "    .dataframe tbody tr th {\n",
       "        vertical-align: top;\n",
       "    }\n",
       "</style>\n",
       "<table border=\"1\" class=\"dataframe\">\n",
       "  <thead>\n",
       "    <tr style=\"text-align: right;\">\n",
       "      <th></th>\n",
       "      <th>identity_hate</th>\n",
       "      <th>insult</th>\n",
       "      <th>obscene</th>\n",
       "      <th>severe_toxic</th>\n",
       "      <th>threat</th>\n",
       "      <th>toxic</th>\n",
       "    </tr>\n",
       "  </thead>\n",
       "  <tbody>\n",
       "    <tr>\n",
       "      <th>total_length</th>\n",
       "      <td>-0.013585</td>\n",
       "      <td>-0.045335</td>\n",
       "      <td>-0.043472</td>\n",
       "      <td>0.009638</td>\n",
       "      <td>-0.008291</td>\n",
       "      <td>-0.054861</td>\n",
       "    </tr>\n",
       "    <tr>\n",
       "      <th>capitals</th>\n",
       "      <td>0.054481</td>\n",
       "      <td>0.074951</td>\n",
       "      <td>0.079174</td>\n",
       "      <td>0.141708</td>\n",
       "      <td>0.032839</td>\n",
       "      <td>0.086789</td>\n",
       "    </tr>\n",
       "    <tr>\n",
       "      <th>caps_vs_length</th>\n",
       "      <td>0.096589</td>\n",
       "      <td>0.172561</td>\n",
       "      <td>0.184061</td>\n",
       "      <td>0.169038</td>\n",
       "      <td>0.054317</td>\n",
       "      <td>0.220908</td>\n",
       "    </tr>\n",
       "    <tr>\n",
       "      <th>num_exclamation_marks</th>\n",
       "      <td>0.005908</td>\n",
       "      <td>0.026628</td>\n",
       "      <td>0.024009</td>\n",
       "      <td>0.060316</td>\n",
       "      <td>0.034405</td>\n",
       "      <td>0.037074</td>\n",
       "    </tr>\n",
       "    <tr>\n",
       "      <th>num_question_marks</th>\n",
       "      <td>-0.000027</td>\n",
       "      <td>0.006355</td>\n",
       "      <td>0.006442</td>\n",
       "      <td>-0.003995</td>\n",
       "      <td>-0.004006</td>\n",
       "      <td>0.028786</td>\n",
       "    </tr>\n",
       "    <tr>\n",
       "      <th>num_punctuation</th>\n",
       "      <td>-0.020774</td>\n",
       "      <td>-0.047778</td>\n",
       "      <td>-0.042646</td>\n",
       "      <td>-0.009712</td>\n",
       "      <td>-0.002851</td>\n",
       "      <td>-0.054982</td>\n",
       "    </tr>\n",
       "    <tr>\n",
       "      <th>num_words</th>\n",
       "      <td>-0.014194</td>\n",
       "      <td>-0.043262</td>\n",
       "      <td>-0.041664</td>\n",
       "      <td>0.009549</td>\n",
       "      <td>-0.007251</td>\n",
       "      <td>-0.052349</td>\n",
       "    </tr>\n",
       "    <tr>\n",
       "      <th>num_unique_words</th>\n",
       "      <td>-0.032474</td>\n",
       "      <td>-0.081043</td>\n",
       "      <td>-0.081098</td>\n",
       "      <td>-0.047476</td>\n",
       "      <td>-0.020348</td>\n",
       "      <td>-0.096528</td>\n",
       "    </tr>\n",
       "    <tr>\n",
       "      <th>words_vs_unique</th>\n",
       "      <td>0.014453</td>\n",
       "      <td>0.052096</td>\n",
       "      <td>0.050839</td>\n",
       "      <td>-0.018958</td>\n",
       "      <td>-0.000532</td>\n",
       "      <td>0.064896</td>\n",
       "    </tr>\n",
       "    <tr>\n",
       "      <th>num_smilies</th>\n",
       "      <td>0.000986</td>\n",
       "      <td>-0.004495</td>\n",
       "      <td>-0.003716</td>\n",
       "      <td>-0.002793</td>\n",
       "      <td>-0.001457</td>\n",
       "      <td>-0.004455</td>\n",
       "    </tr>\n",
       "    <tr>\n",
       "      <th>num_symbols</th>\n",
       "      <td>0.006460</td>\n",
       "      <td>-0.000885</td>\n",
       "      <td>0.003253</td>\n",
       "      <td>0.005693</td>\n",
       "      <td>0.000472</td>\n",
       "      <td>0.005719</td>\n",
       "    </tr>\n",
       "  </tbody>\n",
       "</table>\n",
       "</div>"
      ],
      "text/plain": [
       "                       identity_hate    insult   obscene  severe_toxic  \\\n",
       "total_length               -0.013585 -0.045335 -0.043472      0.009638   \n",
       "capitals                    0.054481  0.074951  0.079174      0.141708   \n",
       "caps_vs_length              0.096589  0.172561  0.184061      0.169038   \n",
       "num_exclamation_marks       0.005908  0.026628  0.024009      0.060316   \n",
       "num_question_marks         -0.000027  0.006355  0.006442     -0.003995   \n",
       "num_punctuation            -0.020774 -0.047778 -0.042646     -0.009712   \n",
       "num_words                  -0.014194 -0.043262 -0.041664      0.009549   \n",
       "num_unique_words           -0.032474 -0.081043 -0.081098     -0.047476   \n",
       "words_vs_unique             0.014453  0.052096  0.050839     -0.018958   \n",
       "num_smilies                 0.000986 -0.004495 -0.003716     -0.002793   \n",
       "num_symbols                 0.006460 -0.000885  0.003253      0.005693   \n",
       "\n",
       "                         threat     toxic  \n",
       "total_length          -0.008291 -0.054861  \n",
       "capitals               0.032839  0.086789  \n",
       "caps_vs_length         0.054317  0.220908  \n",
       "num_exclamation_marks  0.034405  0.037074  \n",
       "num_question_marks    -0.004006  0.028786  \n",
       "num_punctuation       -0.002851 -0.054982  \n",
       "num_words             -0.007251 -0.052349  \n",
       "num_unique_words      -0.020348 -0.096528  \n",
       "words_vs_unique       -0.000532  0.064896  \n",
       "num_smilies           -0.001457 -0.004455  \n",
       "num_symbols            0.000472  0.005719  "
      ]
     },
     "execution_count": 6,
     "metadata": {},
     "output_type": "execute_result"
    }
   ],
   "source": [
    "df_correlations"
   ]
  },
  {
   "cell_type": "code",
   "execution_count": 7,
   "metadata": {
    "collapsed": true
   },
   "outputs": [],
   "source": [
    "import seaborn as sns\n",
    "\n",
    "ax = sns.heatmap(df_correlations, vmin=-0.2, vmax=0.2, center=0.0)"
   ]
  },
  {
   "cell_type": "code",
   "execution_count": 8,
   "metadata": {},
   "outputs": [
    {
     "name": "stdout",
     "output_type": "stream",
     "text": [
      "Axes(0.125,0.125;0.62x0.755)\n"
     ]
    }
   ],
   "source": [
    "print ax"
   ]
  },
  {
   "cell_type": "code",
   "execution_count": null,
   "metadata": {
    "collapsed": true
   },
   "outputs": [],
   "source": []
  }
 ],
 "metadata": {
  "kernelspec": {
   "display_name": "Python 2",
   "language": "python",
   "name": "python2"
  },
  "language_info": {
   "codemirror_mode": {
    "name": "ipython",
    "version": 2
   },
   "file_extension": ".py",
   "mimetype": "text/x-python",
   "name": "python",
   "nbconvert_exporter": "python",
   "pygments_lexer": "ipython2",
   "version": "2.7.14"
  }
 },
 "nbformat": 4,
 "nbformat_minor": 2
}
